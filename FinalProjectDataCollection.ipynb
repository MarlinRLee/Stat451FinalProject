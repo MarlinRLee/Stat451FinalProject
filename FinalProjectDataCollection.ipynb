{
 "cells": [
  {
   "cell_type": "code",
   "execution_count": 1,
   "id": "085a1a59",
   "metadata": {},
   "outputs": [],
   "source": [
    "import yfinance as yf\n",
    "import pandas as pd\n",
    "import time"
   ]
  },
  {
   "cell_type": "code",
   "execution_count": 9,
   "id": "ff2b504d",
   "metadata": {},
   "outputs": [
    {
     "data": {
      "text/plain": [
       "8193"
      ]
     },
     "execution_count": 9,
     "metadata": {},
     "output_type": "execute_result"
    }
   ],
   "source": [
    "\n",
    "StockNameDF = pd.read_csv(\"C:\\\\Users\\\\marli\\\\Downloads\\\\nasdaq_screener_1637446085891.csv\")\n",
    "\n",
    "StockInfo = StockNameDF[[\"Symbol\",\"Name\", \"Market Cap\", \"Country\", \"IPO Year\",\"Sector\",\"Industry\"]]\n",
    "\n",
    "StockNames = StockInfo[\"Symbol\"]\n",
    "len(StockNames)"
   ]
  },
  {
   "cell_type": "code",
   "execution_count": null,
   "id": "b0689b91",
   "metadata": {},
   "outputs": [],
   "source": [
    "\n",
    "new_strings = []\n",
    "for string in StockNames:\n",
    "    new_string = string.replace(\"/\", \"\")\n",
    "    new_strings.append(new_string)\n",
    "StockNames = new_strings"
   ]
  },
  {
   "cell_type": "code",
   "execution_count": null,
   "id": "8cb0c36a",
   "metadata": {},
   "outputs": [],
   "source": [
    "i=0\n",
    "for Name in StockNames:\n",
    "    break\n",
    "    print(\"Started working on {}\".format(Name))\n",
    "    i+=1\n",
    "    print(i)\n",
    "    Biz = yf.Ticker(Name)\n",
    "    NewDF = Biz.history(period=\"7d\" , interval = \"1m\")\n",
    "    NewDF.to_csv(\"C:\\\\Users\\\\marli\\\\Downloads\\\\StockDFs\\\\{}.csv\".format(Name))\n",
    "    time.sleep(.5)   "
   ]
  },
  {
   "cell_type": "code",
   "execution_count": null,
   "id": "6bee32d7",
   "metadata": {},
   "outputs": [],
   "source": [
    "MainDF = pd.read_csv(\"C:\\\\Users\\\\marli\\\\Downloads\\\\StockDFs\\\\{}.csv\".format(StockNames[0]))\n",
    "MainDF['Symbol'] = \"A\"\n",
    "MainDF = pd.concat([MainDF, NewDF], axis=0)\n",
    "for Name in StockNames[1:]:\n",
    "    break\n",
    "    print(\"Started working on {}\".format(Name))\n",
    "    try:\n",
    "        NewDF = pd.read_csv(\"C:\\\\Users\\\\marli\\\\Downloads\\\\StockDFs\\\\{}.csv\".format(Name))\n",
    "    except:\n",
    "        continue\n",
    "    Leng = NewDF.shape[0]\n",
    "    if (Leng <50):\n",
    "        continue\n",
    "    NewDF['Symbol'] = Name\n",
    "    MainDF = pd.concat([MainDF, NewDF], axis=0)\n",
    "    \n",
    "    "
   ]
  },
  {
   "cell_type": "code",
   "execution_count": null,
   "id": "baf9e927",
   "metadata": {},
   "outputs": [],
   "source": [
    "FullDF = pd.merge(StockInfo, MainDF, on='Symbol', how='inner')"
   ]
  },
  {
   "cell_type": "code",
   "execution_count": null,
   "id": "342a93c8",
   "metadata": {},
   "outputs": [],
   "source": [
    "FullDF.to_csv(\"C:\\\\Users\\\\marli\\\\Downloads\\\\FinalStocksDFHighResolutionHour.csv.gz\",index=False,compression='gzip')\n",
    "6878"
   ]
  }
 ],
 "metadata": {
  "kernelspec": {
   "display_name": "Python 3 (ipykernel)",
   "language": "python",
   "name": "python3"
  },
  "language_info": {
   "codemirror_mode": {
    "name": "ipython",
    "version": 3
   },
   "file_extension": ".py",
   "mimetype": "text/x-python",
   "name": "python",
   "nbconvert_exporter": "python",
   "pygments_lexer": "ipython3",
   "version": "3.9.7"
  }
 },
 "nbformat": 4,
 "nbformat_minor": 5
}
