{
 "cells": [
  {
   "cell_type": "code",
   "execution_count": 1,
   "id": "b6236c9e",
   "metadata": {},
   "outputs": [],
   "source": [
    "import pandas as pd\n",
    "import numpy as np\n",
    "import matplotlib.pyplot as plt\n",
    "\n",
    "#import datetime\n",
    "\n",
    "import talib as ta\n",
    "from sklearn.compose import ColumnTransformer\n",
    "from sklearn.preprocessing import OneHotEncoder\n",
    "from sklearn.ensemble import RandomForestClassifier\n",
    "from xgboost import XGBClassifier\n",
    "#from mlxtend.classifier import StackingCVClassifier\n",
    "from sklearn.ensemble import StackingClassifier\n",
    "from sklearn.linear_model import LogisticRegression\n",
    "from sklearn.neighbors import KNeighborsClassifier\n",
    "from sklearn.neighbors import KNeighborsRegressor\n",
    "# Importing libraries\n",
    "from sklearn.svm import SVC\n",
    "from sklearn.preprocessing import StandardScaler\n",
    "#from sklearn.model_selection import RandomizedSearchCV\n",
    "from sklearn.pipeline import Pipeline\n",
    "import pandas as pd\n",
    "import numpy as np\n",
    "import talib as ta\n",
    "import matplotlib.pyplot as plt\n",
    "from sklearn.model_selection import GridSearchCV\n",
    "from sklearn.model_selection import PredefinedSplit\n",
    "from  sklearn.ensemble import GradientBoostingClassifier\n",
    "import multiprocessing\n",
    "from sklearn.model_selection import train_test_split\n",
    "from sklearn.metrics import confusion_matrix, ConfusionMatrixDisplay, accuracy_score,precision_score,recall_score"
   ]
  },
  {
   "cell_type": "code",
   "execution_count": 2,
   "id": "f233aa06",
   "metadata": {},
   "outputs": [
    {
     "data": {
      "text/html": [
       "<div>\n",
       "<style scoped>\n",
       "    .dataframe tbody tr th:only-of-type {\n",
       "        vertical-align: middle;\n",
       "    }\n",
       "\n",
       "    .dataframe tbody tr th {\n",
       "        vertical-align: top;\n",
       "    }\n",
       "\n",
       "    .dataframe thead th {\n",
       "        text-align: right;\n",
       "    }\n",
       "</style>\n",
       "<table border=\"1\" class=\"dataframe\">\n",
       "  <thead>\n",
       "    <tr style=\"text-align: right;\">\n",
       "      <th></th>\n",
       "      <th>Unnamed: 0</th>\n",
       "      <th>Symbol</th>\n",
       "      <th>Name</th>\n",
       "      <th>Market Cap</th>\n",
       "      <th>Country</th>\n",
       "      <th>Sector</th>\n",
       "      <th>Industry</th>\n",
       "      <th>XGB StragyReturn</th>\n",
       "      <th>XGB recall -1</th>\n",
       "      <th>XGB recall 0</th>\n",
       "      <th>...</th>\n",
       "      <th>Stacking precision 0</th>\n",
       "      <th>Stacking precision 1</th>\n",
       "      <th>Stacking accuracy</th>\n",
       "      <th>Unnamed: 0.1</th>\n",
       "      <th>Unnamed: 0.1.1</th>\n",
       "      <th>Unnamed: 0.1.1.1</th>\n",
       "      <th>Unnamed: 0.1.1.1.1</th>\n",
       "      <th>Unnamed: 0.1.1.1.1.1</th>\n",
       "      <th>Unnamed: 0.1.1.1.1.1.1</th>\n",
       "      <th>Unnamed: 0.1.1.1.1.1.1.1</th>\n",
       "    </tr>\n",
       "  </thead>\n",
       "  <tbody>\n",
       "    <tr>\n",
       "      <th>0</th>\n",
       "      <td>0</td>\n",
       "      <td>CWT</td>\n",
       "      <td>California Water Service Group Common Stock</td>\n",
       "      <td>3.530523e+09</td>\n",
       "      <td>United States</td>\n",
       "      <td>Public Utilities</td>\n",
       "      <td>Water Supply</td>\n",
       "      <td>-0.00003</td>\n",
       "      <td>0.313953</td>\n",
       "      <td>0.507246</td>\n",
       "      <td>...</td>\n",
       "      <td>0.108108</td>\n",
       "      <td>0.108108</td>\n",
       "      <td>0.348178</td>\n",
       "      <td>NaN</td>\n",
       "      <td>NaN</td>\n",
       "      <td>NaN</td>\n",
       "      <td>NaN</td>\n",
       "      <td>NaN</td>\n",
       "      <td>NaN</td>\n",
       "      <td>NaN</td>\n",
       "    </tr>\n",
       "  </tbody>\n",
       "</table>\n",
       "<p>1 rows × 46 columns</p>\n",
       "</div>"
      ],
      "text/plain": [
       "   Unnamed: 0 Symbol                                         Name  \\\n",
       "0           0    CWT  California Water Service Group Common Stock   \n",
       "\n",
       "     Market Cap        Country            Sector      Industry  \\\n",
       "0  3.530523e+09  United States  Public Utilities  Water Supply   \n",
       "\n",
       "   XGB StragyReturn  XGB recall -1  XGB recall 0  ...  Stacking precision 0  \\\n",
       "0          -0.00003       0.313953      0.507246  ...              0.108108   \n",
       "\n",
       "   Stacking precision 1  Stacking accuracy  Unnamed: 0.1  Unnamed: 0.1.1  \\\n",
       "0              0.108108           0.348178           NaN             NaN   \n",
       "\n",
       "   Unnamed: 0.1.1.1  Unnamed: 0.1.1.1.1  Unnamed: 0.1.1.1.1.1  \\\n",
       "0               NaN                 NaN                   NaN   \n",
       "\n",
       "   Unnamed: 0.1.1.1.1.1.1  Unnamed: 0.1.1.1.1.1.1.1  \n",
       "0                     NaN                       NaN  \n",
       "\n",
       "[1 rows x 46 columns]"
      ]
     },
     "execution_count": 2,
     "metadata": {},
     "output_type": "execute_result"
    }
   ],
   "source": [
    "NewDF = pd.read_csv(\"C:\\\\Users\\\\marli\\\\Downloads\\\\FinalAnalysisMin1.csv\")\n",
    "NewDF.head(1)"
   ]
  },
  {
   "cell_type": "code",
   "execution_count": 3,
   "id": "815bdb07",
   "metadata": {},
   "outputs": [
    {
     "data": {
      "text/html": [
       "<div>\n",
       "<style scoped>\n",
       "    .dataframe tbody tr th:only-of-type {\n",
       "        vertical-align: middle;\n",
       "    }\n",
       "\n",
       "    .dataframe tbody tr th {\n",
       "        vertical-align: top;\n",
       "    }\n",
       "\n",
       "    .dataframe thead th {\n",
       "        text-align: right;\n",
       "    }\n",
       "</style>\n",
       "<table border=\"1\" class=\"dataframe\">\n",
       "  <thead>\n",
       "    <tr style=\"text-align: right;\">\n",
       "      <th></th>\n",
       "      <th>XGB accuracy</th>\n",
       "      <th>Stacking accuracy</th>\n",
       "      <th>RandomForest accuracy</th>\n",
       "      <th>KNN accuracy</th>\n",
       "    </tr>\n",
       "    <tr>\n",
       "      <th>Sector</th>\n",
       "      <th></th>\n",
       "      <th></th>\n",
       "      <th></th>\n",
       "      <th></th>\n",
       "    </tr>\n",
       "  </thead>\n",
       "  <tbody>\n",
       "    <tr>\n",
       "      <th>Basic Industries</th>\n",
       "      <td>0.370990</td>\n",
       "      <td>0.340015</td>\n",
       "      <td>0.374572</td>\n",
       "      <td>0.343632</td>\n",
       "    </tr>\n",
       "    <tr>\n",
       "      <th>Capital Goods</th>\n",
       "      <td>0.372433</td>\n",
       "      <td>0.356840</td>\n",
       "      <td>0.376313</td>\n",
       "      <td>0.367578</td>\n",
       "    </tr>\n",
       "    <tr>\n",
       "      <th>Consumer Durables</th>\n",
       "      <td>0.386497</td>\n",
       "      <td>0.354142</td>\n",
       "      <td>0.390977</td>\n",
       "      <td>0.346213</td>\n",
       "    </tr>\n",
       "    <tr>\n",
       "      <th>Consumer Non-Durables</th>\n",
       "      <td>0.377788</td>\n",
       "      <td>0.351163</td>\n",
       "      <td>0.375823</td>\n",
       "      <td>0.349160</td>\n",
       "    </tr>\n",
       "    <tr>\n",
       "      <th>Consumer Services</th>\n",
       "      <td>0.373593</td>\n",
       "      <td>0.350316</td>\n",
       "      <td>0.378269</td>\n",
       "      <td>0.353524</td>\n",
       "    </tr>\n",
       "    <tr>\n",
       "      <th>Energy</th>\n",
       "      <td>0.376715</td>\n",
       "      <td>0.339368</td>\n",
       "      <td>0.386304</td>\n",
       "      <td>0.349309</td>\n",
       "    </tr>\n",
       "    <tr>\n",
       "      <th>Finance</th>\n",
       "      <td>0.381497</td>\n",
       "      <td>0.358931</td>\n",
       "      <td>0.387751</td>\n",
       "      <td>0.357760</td>\n",
       "    </tr>\n",
       "    <tr>\n",
       "      <th>Health Care</th>\n",
       "      <td>0.382147</td>\n",
       "      <td>0.362808</td>\n",
       "      <td>0.383399</td>\n",
       "      <td>0.356309</td>\n",
       "    </tr>\n",
       "    <tr>\n",
       "      <th>Miscellaneous</th>\n",
       "      <td>0.365765</td>\n",
       "      <td>0.350735</td>\n",
       "      <td>0.370714</td>\n",
       "      <td>0.353136</td>\n",
       "    </tr>\n",
       "    <tr>\n",
       "      <th>Public Utilities</th>\n",
       "      <td>0.378810</td>\n",
       "      <td>0.347628</td>\n",
       "      <td>0.383327</td>\n",
       "      <td>0.353956</td>\n",
       "    </tr>\n",
       "    <tr>\n",
       "      <th>Technology</th>\n",
       "      <td>0.376336</td>\n",
       "      <td>0.347684</td>\n",
       "      <td>0.378809</td>\n",
       "      <td>0.357918</td>\n",
       "    </tr>\n",
       "    <tr>\n",
       "      <th>Transportation</th>\n",
       "      <td>0.367449</td>\n",
       "      <td>0.354273</td>\n",
       "      <td>0.380213</td>\n",
       "      <td>0.363627</td>\n",
       "    </tr>\n",
       "  </tbody>\n",
       "</table>\n",
       "</div>"
      ],
      "text/plain": [
       "                       XGB accuracy  Stacking accuracy  RandomForest accuracy  \\\n",
       "Sector                                                                          \n",
       "Basic Industries           0.370990           0.340015               0.374572   \n",
       "Capital Goods              0.372433           0.356840               0.376313   \n",
       "Consumer Durables          0.386497           0.354142               0.390977   \n",
       "Consumer Non-Durables      0.377788           0.351163               0.375823   \n",
       "Consumer Services          0.373593           0.350316               0.378269   \n",
       "Energy                     0.376715           0.339368               0.386304   \n",
       "Finance                    0.381497           0.358931               0.387751   \n",
       "Health Care                0.382147           0.362808               0.383399   \n",
       "Miscellaneous              0.365765           0.350735               0.370714   \n",
       "Public Utilities           0.378810           0.347628               0.383327   \n",
       "Technology                 0.376336           0.347684               0.378809   \n",
       "Transportation             0.367449           0.354273               0.380213   \n",
       "\n",
       "                       KNN accuracy  \n",
       "Sector                               \n",
       "Basic Industries           0.343632  \n",
       "Capital Goods              0.367578  \n",
       "Consumer Durables          0.346213  \n",
       "Consumer Non-Durables      0.349160  \n",
       "Consumer Services          0.353524  \n",
       "Energy                     0.349309  \n",
       "Finance                    0.357760  \n",
       "Health Care                0.356309  \n",
       "Miscellaneous              0.353136  \n",
       "Public Utilities           0.353956  \n",
       "Technology                 0.357918  \n",
       "Transportation             0.363627  "
      ]
     },
     "execution_count": 3,
     "metadata": {},
     "output_type": "execute_result"
    }
   ],
   "source": [
    "NewDF.groupby(['Sector']).mean()[[\"XGB accuracy\",\"Stacking accuracy\",\"RandomForest accuracy\",\"KNN accuracy\"]]#Sector,'Country'\n",
    "#.groupby(['Sector'])"
   ]
  },
  {
   "cell_type": "code",
   "execution_count": 4,
   "id": "b6309d46",
   "metadata": {},
   "outputs": [
    {
     "data": {
      "image/png": "[encoded data removed]",
      "text/plain": [
       "<Figure size 432x288 with 1 Axes>"
      ]
     },
     "metadata": {
      "needs_background": "light"
     },
     "output_type": "display_data"
    }
   ],
   "source": [
    "X = NewDF[\"Market Cap\"]\n",
    "fig = plt.figure()\n",
    "ax = fig.add_subplot(1, 1, 1)\n",
    "plt.scatter(X,NewDF[\"XGB accuracy\"],color=\"r\")\n",
    "plt.scatter(X,NewDF[\"RandomForest accuracy\"],color=\"g\")\n",
    "plt.scatter(X,NewDF[\"KNN accuracy\"],color=\"b\")\n",
    "plt.scatter(X,NewDF[\"Stacking accuracy\"],color=\"pink\")\n",
    "ax.set_xscale('log')"
   ]
  },
  {
   "cell_type": "code",
   "execution_count": 5,
   "id": "bee2a295",
   "metadata": {},
   "outputs": [
    {
     "data": {
      "text/plain": [
       "array([[<AxesSubplot:title={'center':'XGB accuracy'}>,\n",
       "        <AxesSubplot:title={'center':'RandomForest accuracy'}>],\n",
       "       [<AxesSubplot:title={'center':'KNN accuracy'}>,\n",
       "        <AxesSubplot:title={'center':'Stacking accuracy'}>]], dtype=object)"
      ]
     },
     "execution_count": 5,
     "metadata": {},
     "output_type": "execute_result"
    },
    {
     "data": {
      "image/png": "[encoded data removed]",
      "text/plain": [
       "<Figure size 432x288 with 4 Axes>"
      ]
     },
     "metadata": {
      "needs_background": "light"
     },
     "output_type": "display_data"
    }
   ],
   "source": [
    "NewDF[[\"XGB accuracy\",\"RandomForest accuracy\",\"KNN accuracy\",\"Stacking accuracy\"]].hist()"
   ]
  },
  {
   "cell_type": "code",
   "execution_count": 6,
   "id": "d5b7c10b",
   "metadata": {},
   "outputs": [],
   "source": [
    "#\"XGB accuracy\",\"RandomForest accuracy\",\"KNN accuracy\",\"Stacking accuracy\"\n",
    "SignalMetric = \"RandomForest accuracy\"\n",
    "NewDF['Signal'] = 0\n",
    "NewDF.loc[NewDF[SignalMetric] > NewDF[SignalMetric].quantile(q=0.66), 'Signal'] = -1\n",
    "NewDF.loc[NewDF[SignalMetric] < NewDF[SignalMetric].quantile(q=0.33), 'Signal'] = 1\n",
    "X = NewDF[[\"Country\",\"Market Cap\",\"Sector\",\"Industry\"]]\n",
    "Y = NewDF[\"Signal\"]"
   ]
  },
  {
   "cell_type": "code",
   "execution_count": 7,
   "id": "bfc0a4f6",
   "metadata": {},
   "outputs": [],
   "source": [
    "X_Train, X_Test, Y_Train, Y_Test = \\\n",
    "    train_test_split(X, Y, test_size=0.3, random_state=1)"
   ]
  },
  {
   "cell_type": "code",
   "execution_count": 8,
   "id": "99b973e1",
   "metadata": {},
   "outputs": [],
   "source": [
    "preprocessor = ColumnTransformer(\n",
    "    transformers=[\n",
    "        (\"Num\",StandardScaler(), [\"Market Cap\"]),\n",
    "        (\"Cat\",OneHotEncoder(handle_unknown=\"ignore\"), [\"Country\",\"Sector\",\"Industry\"]),\n",
    "    ]\n",
    ")"
   ]
  },
  {
   "cell_type": "code",
   "execution_count": 9,
   "id": "ac893d32",
   "metadata": {},
   "outputs": [],
   "source": [
    "#conda install graphviz\n",
    "import graphviz"
   ]
  },
  {
   "cell_type": "code",
   "execution_count": 10,
   "id": "058ec751",
   "metadata": {},
   "outputs": [
    {
     "data": {
      "text/html": [
       "<div>\n",
       "<style scoped>\n",
       "    .dataframe tbody tr th:only-of-type {\n",
       "        vertical-align: middle;\n",
       "    }\n",
       "\n",
       "    .dataframe tbody tr th {\n",
       "        vertical-align: top;\n",
       "    }\n",
       "\n",
       "    .dataframe thead th {\n",
       "        text-align: right;\n",
       "    }\n",
       "</style>\n",
       "<table border=\"1\" class=\"dataframe\">\n",
       "  <thead>\n",
       "    <tr style=\"text-align: right;\">\n",
       "      <th></th>\n",
       "      <th>Country</th>\n",
       "      <th>Market Cap</th>\n",
       "      <th>Sector</th>\n",
       "      <th>Industry</th>\n",
       "    </tr>\n",
       "  </thead>\n",
       "  <tbody>\n",
       "    <tr>\n",
       "      <th>1369</th>\n",
       "      <td>United States</td>\n",
       "      <td>68592594.0</td>\n",
       "      <td>Health Care</td>\n",
       "      <td>Medical/Dental Instruments</td>\n",
       "    </tr>\n",
       "  </tbody>\n",
       "</table>\n",
       "</div>"
      ],
      "text/plain": [
       "            Country  Market Cap       Sector                    Industry\n",
       "1369  United States  68592594.0  Health Care  Medical/Dental Instruments"
      ]
     },
     "execution_count": 10,
     "metadata": {},
     "output_type": "execute_result"
    }
   ],
   "source": [
    "X_Train.head(1)"
   ]
  },
  {
   "cell_type": "code",
   "execution_count": 12,
   "id": "67cbfd04",
   "metadata": {},
   "outputs": [
    {
     "name": "stdout",
     "output_type": "stream",
     "text": [
      "0.387434554973822\n"
     ]
    },
    {
     "data": {
      "text/plain": [
       "<AxesSubplot:>"
      ]
     },
     "execution_count": 12,
     "metadata": {},
     "output_type": "execute_result"
    },
    {
     "data": {
      "image/png": "[encoded data removed]",
      "text/plain": [
       "<Figure size 432x288 with 2 Axes>"
      ]
     },
     "metadata": {
      "needs_background": "light"
     },
     "output_type": "display_data"
    },
    {
     "data": {
      "image/png": "[encoded data removed]",
      "text/plain": [
       "<Figure size 432x288 with 1 Axes>"
      ]
     },
     "metadata": {
      "needs_background": "light"
     },
     "output_type": "display_data"
    }
   ],
   "source": [
    "#from sklearn import tree\n",
    "#from sklearn.tree import RandomForestClassifier \n",
    "clf = RandomForestClassifier(random_state=1234)\n",
    "#KNN = KNeighborsClassifier(n_neighbors=20)\n",
    "steps = [('Transform', preprocessor) , ('Model', clf)]\n",
    "pipeline = Pipeline(steps)\n",
    "pipeline.fit(X_Train, Y_Train)\n",
    "\n",
    "predictions = pipeline.predict(X_Test)\n",
    "cm = confusion_matrix(Y_Test, predictions, labels=pipeline.classes_)\n",
    "disp = ConfusionMatrixDisplay(confusion_matrix=cm,\n",
    "                           display_labels=pipeline.classes_)\n",
    "disp.plot()\n",
    "print(accuracy_score(Y_Test, predictions))\n",
    "importances = pipeline.steps[1][1].feature_importances_\n",
    "std = np.std([pipeline.steps[1][1].feature_importances_ for tree in pipeline.steps[1][1].estimators_], axis=0)\n",
    "forest_importances = pd.Series(importances, index=pipeline.steps[0][1].get_feature_names_out())\n",
    "forest_importances2 = forest_importances.reset_index(level=0, inplace=False)\n",
    "Ranking = {\"Country\" : 0,\n",
    "           \"Sector\" : 0,\n",
    "           \"Industry\" : 0,\n",
    "           \"MarketCap\" : forest_importances[0],\n",
    "          }\n",
    "SDRanking = {\"Country\" : 0,\n",
    "           \"Sector\" : 0,\n",
    "           \"Industry\" : 0,\n",
    "           \"MarketCap\" : std[0]\n",
    "          }\n",
    "\n",
    "\n",
    "#for index, row in forest_importances2[1:].iterrows():\n",
    "for i in range(1,len(forest_importances2)):\n",
    "    if \"Country\" in forest_importances2[\"index\"][i]:\n",
    "        Ranking[\"Country\"]+=forest_importances2[0][i]\n",
    "        SDRanking[\"Country\"]+=std[i]\n",
    "        continue\n",
    "    if \"Sector\" in forest_importances2[\"index\"][i]:\n",
    "        Ranking[\"Sector\"]+=forest_importances2[0][i]\n",
    "        SDRanking[\"Sector\"]+=std[i]\n",
    "        continue\n",
    "    if \"Industry\" in forest_importances2[\"index\"][i]:\n",
    "        Ranking[\"Industry\"]+=forest_importances2[0][i]\n",
    "        SDRanking[\"Industry\"]+=std[i]\n",
    "        continue\n",
    "    print(forest_importances2[\"index\"][i])\n",
    "    raise Exception\n",
    "    \n",
    "ResultDF = pd.DataFrame({'Value':pd.Series(Ranking),'SD':pd.Series(SDRanking)})\n",
    "\n",
    "\n",
    "\n",
    "fig, ax = plt.subplots()\n",
    "ResultDF.plot.bar(yerr=\"SD\", ax=ax)\n",
    "#ax.set_title(\"Feature importances using MDI\")\n",
    "#ax.set_ylabel(\"Mean decrease in impurity\")\n",
    "#fig.tight_layout()"
   ]
  }
 ],
 "metadata": {
  "kernelspec": {
   "display_name": "Python 3 (ipykernel)",
   "language": "python",
   "name": "python3"
  },
  "language_info": {
   "codemirror_mode": {
    "name": "ipython",
    "version": 3
   },
   "file_extension": ".py",
   "mimetype": "text/x-python",
   "name": "python",
   "nbconvert_exporter": "python",
   "pygments_lexer": "ipython3",
   "version": "3.9.7"
  }
 },
 "nbformat": 4,
 "nbformat_minor": 5
}
