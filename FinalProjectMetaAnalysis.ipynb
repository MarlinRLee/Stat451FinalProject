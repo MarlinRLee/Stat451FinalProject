{
 "cells": [
  {
   "cell_type": "code",
   "execution_count": 83,
   "id": "7ed20d1e",
   "metadata": {},
   "outputs": [],
   "source": [
    "import pandas as pd\n",
    "import numpy as np\n",
    "import matplotlib.pyplot as plt\n",
    "\n",
    "#import datetime\n",
    "\n",
    "import talib as ta\n",
    "from sklearn.compose import ColumnTransformer\n",
    "from sklearn.preprocessing import OneHotEncoder\n",
    "from sklearn.ensemble import RandomForestClassifier\n",
    "from xgboost import XGBClassifier\n",
    "#from mlxtend.classifier import StackingCVClassifier\n",
    "from sklearn.ensemble import StackingClassifier\n",
    "from sklearn.linear_model import LogisticRegression\n",
    "from sklearn.neighbors import KNeighborsClassifier\n",
    "from sklearn.neighbors import KNeighborsRegressor\n",
    "# Importing libraries\n",
    "from sklearn.svm import SVC\n",
    "from sklearn.preprocessing import StandardScaler\n",
    "#from sklearn.model_selection import RandomizedSearchCV\n",
    "from sklearn.pipeline import Pipeline\n",
    "import pandas as pd\n",
    "import numpy as np\n",
    "import talib as ta\n",
    "import matplotlib.pyplot as plt\n",
    "from sklearn.model_selection import GridSearchCV\n",
    "from sklearn.model_selection import PredefinedSplit\n",
    "from  sklearn.ensemble import GradientBoostingClassifier\n",
    "import multiprocessing\n",
    "from sklearn.model_selection import train_test_split\n",
    "from sklearn.metrics import confusion_matrix, ConfusionMatrixDisplay, accuracy_score,precision_score,recall_score"
   ]
  },
  {
   "cell_type": "code",
   "execution_count": 2,
   "id": "9e5b5b0b",
   "metadata": {},
   "outputs": [
    {
     "data": {
      "text/html": [
       "<div>\n",
       "<style scoped>\n",
       "    .dataframe tbody tr th:only-of-type {\n",
       "        vertical-align: middle;\n",
       "    }\n",
       "\n",
       "    .dataframe tbody tr th {\n",
       "        vertical-align: top;\n",
       "    }\n",
       "\n",
       "    .dataframe thead th {\n",
       "        text-align: right;\n",
       "    }\n",
       "</style>\n",
       "<table border=\"1\" class=\"dataframe\">\n",
       "  <thead>\n",
       "    <tr style=\"text-align: right;\">\n",
       "      <th></th>\n",
       "      <th>Unnamed: 0</th>\n",
       "      <th>Symbol</th>\n",
       "      <th>Name</th>\n",
       "      <th>Market Cap</th>\n",
       "      <th>Country</th>\n",
       "      <th>Sector</th>\n",
       "      <th>Industry</th>\n",
       "      <th>XGB StragyReturn</th>\n",
       "      <th>XGB recall -1</th>\n",
       "      <th>XGB recall 0</th>\n",
       "      <th>...</th>\n",
       "      <th>KNN precision 1</th>\n",
       "      <th>KNN accuracy</th>\n",
       "      <th>Stacking StragyReturn</th>\n",
       "      <th>Stacking recall -1</th>\n",
       "      <th>Stacking recall 0</th>\n",
       "      <th>Stacking recall 1</th>\n",
       "      <th>Stacking precision -1</th>\n",
       "      <th>Stacking precision 0</th>\n",
       "      <th>Stacking precision 1</th>\n",
       "      <th>Stacking accuracy</th>\n",
       "    </tr>\n",
       "  </thead>\n",
       "  <tbody>\n",
       "    <tr>\n",
       "      <th>0</th>\n",
       "      <td>0</td>\n",
       "      <td>A</td>\n",
       "      <td>Agilent Technologies Inc. Common Stock</td>\n",
       "      <td>4.973733e+10</td>\n",
       "      <td>United States</td>\n",
       "      <td>Capital Goods</td>\n",
       "      <td>Electrical Products</td>\n",
       "      <td>-0.000036</td>\n",
       "      <td>0.331081</td>\n",
       "      <td>0.543011</td>\n",
       "      <td>...</td>\n",
       "      <td>0.398964</td>\n",
       "      <td>0.347826</td>\n",
       "      <td>3.794649e-07</td>\n",
       "      <td>0.527027</td>\n",
       "      <td>0.580645</td>\n",
       "      <td>0.580645</td>\n",
       "      <td>0.366197</td>\n",
       "      <td>0.465517</td>\n",
       "      <td>0.465517</td>\n",
       "      <td>0.418972</td>\n",
       "    </tr>\n",
       "  </tbody>\n",
       "</table>\n",
       "<p>1 rows × 39 columns</p>\n",
       "</div>"
      ],
      "text/plain": [
       "   Unnamed: 0 Symbol                                    Name    Market Cap  \\\n",
       "0           0      A  Agilent Technologies Inc. Common Stock  4.973733e+10   \n",
       "\n",
       "         Country         Sector             Industry  XGB StragyReturn  \\\n",
       "0  United States  Capital Goods  Electrical Products         -0.000036   \n",
       "\n",
       "   XGB recall -1  XGB recall 0  ...  KNN precision 1  KNN accuracy  \\\n",
       "0       0.331081      0.543011  ...         0.398964      0.347826   \n",
       "\n",
       "   Stacking StragyReturn  Stacking recall -1  Stacking recall 0  \\\n",
       "0           3.794649e-07            0.527027           0.580645   \n",
       "\n",
       "   Stacking recall 1  Stacking precision -1   Stacking precision 0  \\\n",
       "0           0.580645                0.366197              0.465517   \n",
       "\n",
       "   Stacking precision 1  Stacking accuracy  \n",
       "0              0.465517           0.418972  \n",
       "\n",
       "[1 rows x 39 columns]"
      ]
     },
     "execution_count": 2,
     "metadata": {},
     "output_type": "execute_result"
    }
   ],
   "source": [
    "NewDF = pd.read_csv(\"C:\\\\Users\\\\marli\\\\Downloads\\\\FinalAnalysisMin2.csv\")\n",
    "NewDF.head(1)"
   ]
  },
  {
   "cell_type": "code",
   "execution_count": 3,
   "id": "e9aba452",
   "metadata": {},
   "outputs": [
    {
     "data": {
      "image/png": "[encoded data removed]",
      "text/plain": [
       "<Figure size 432x288 with 1 Axes>"
      ]
     },
     "metadata": {
      "needs_background": "light"
     },
     "output_type": "display_data"
    }
   ],
   "source": [
    "X = NewDF[\"Market Cap\"]\n",
    "fig = plt.figure()\n",
    "ax = fig.add_subplot(1, 1, 1)\n",
    "plt.scatter(X,NewDF[\"XGB accuracy\"],color=\"r\")\n",
    "plt.scatter(X,NewDF[\"RandomForest accuracy\"],color=\"g\")\n",
    "plt.scatter(X,NewDF[\"KNN accuracy\"],color=\"b\")\n",
    "plt.scatter(X,NewDF[\"Stacking accuracy\"],color=\"pink\")\n",
    "ax.set_xscale('log')"
   ]
  },
  {
   "cell_type": "code",
   "execution_count": 10,
   "id": "749eb16e",
   "metadata": {},
   "outputs": [
    {
     "data": {
      "text/plain": [
       "array([[<AxesSubplot:title={'center':'XGB accuracy'}>,\n",
       "        <AxesSubplot:title={'center':'RandomForest accuracy'}>],\n",
       "       [<AxesSubplot:title={'center':'KNN accuracy'}>,\n",
       "        <AxesSubplot:title={'center':'Stacking accuracy'}>]], dtype=object)"
      ]
     },
     "execution_count": 10,
     "metadata": {},
     "output_type": "execute_result"
    },
    {
     "data": {
      "image/png": "[encoded data removed]",
      "text/plain": [
       "<Figure size 432x288 with 4 Axes>"
      ]
     },
     "metadata": {
      "needs_background": "light"
     },
     "output_type": "display_data"
    }
   ],
   "source": [
    "NewDF[[\"XGB accuracy\",\"RandomForest accuracy\",\"KNN accuracy\",\"Stacking accuracy\"]].hist()"
   ]
  },
  {
   "cell_type": "code",
   "execution_count": 111,
   "id": "5f82c311",
   "metadata": {},
   "outputs": [],
   "source": [
    "#\"XGB accuracy\",\"RandomForest accuracy\",\"KNN accuracy\",\"Stacking accuracy\"\n",
    "NewDF['Signal'] = 0\n",
    "NewDF.loc[NewDF['XGB accuracy'] > NewDF['XGB accuracy'].quantile(q=0.66), 'Signal'] = -1\n",
    "NewDF.loc[NewDF['XGB accuracy'] < NewDF['XGB accuracy'].quantile(q=0.33), 'Signal'] = 1\n",
    "X = NewDF[[\"Country\",\"Market Cap\",\"Sector\",\"Industry\"]]\n",
    "Y = NewDF[\"Signal\"]"
   ]
  },
  {
   "cell_type": "code",
   "execution_count": 117,
   "id": "2e369af3",
   "metadata": {},
   "outputs": [],
   "source": [
    "X_Train, X_Test, Y_Train, Y_Test = \\\n",
    "    train_test_split(X, Y, test_size=0.2, random_state=1)"
   ]
  },
  {
   "cell_type": "code",
   "execution_count": 115,
   "id": "346ec835",
   "metadata": {},
   "outputs": [
    {
     "data": {
      "text/plain": [
       "105    0.401015\n",
       "42     0.373606\n",
       "145    0.403226\n",
       "51     0.351474\n",
       "92     0.512953\n",
       "         ...   \n",
       "133    0.440000\n",
       "137    0.505155\n",
       "72     0.373206\n",
       "140    0.339367\n",
       "37     0.363636\n",
       "Name: XGB accuracy, Length: 132, dtype: float64"
      ]
     },
     "execution_count": 115,
     "metadata": {},
     "output_type": "execute_result"
    }
   ],
   "source": [
    "preprocessor = ColumnTransformer(\n",
    "    transformers=[\n",
    "        (\"Num\",StandardScaler(), [\"Market Cap\"]),\n",
    "        (\"Cat\",OneHotEncoder(handle_unknown=\"ignore\"), [\"Country\",\"Sector\",\"Industry\"]),\n",
    "    ]\n",
    ")"
   ]
  },
  {
   "cell_type": "code",
   "execution_count": 118,
   "id": "3a187eb1",
   "metadata": {},
   "outputs": [
    {
     "data": {
      "text/plain": [
       "0.23529411764705882"
      ]
     },
     "execution_count": 118,
     "metadata": {},
     "output_type": "execute_result"
    }
   ],
   "source": [
    "KNN = KNeighborsClassifier(n_neighbors=20)\n",
    "steps = [('Transform', preprocessor) , ('Model', KNN)]\n",
    "pipeline = Pipeline(steps)\n",
    "pipeline.fit(X_Train, Y_Train)\n",
    "\n",
    "predictions = pipeline.predict(X_Test)\n",
    "accuracy_score(Y_Test, predictions)"
   ]
  }
 ],
 "metadata": {
  "kernelspec": {
   "display_name": "Python 3 (ipykernel)",
   "language": "python",
   "name": "python3"
  },
  "language_info": {
   "codemirror_mode": {
    "name": "ipython",
    "version": 3
   },
   "file_extension": ".py",
   "mimetype": "text/x-python",
   "name": "python",
   "nbconvert_exporter": "python",
   "pygments_lexer": "ipython3",
   "version": "3.9.7"
  }
 },
 "nbformat": 4,
 "nbformat_minor": 5
}
